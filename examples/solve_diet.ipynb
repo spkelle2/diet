{
 "cells": [
  {
   "cell_type": "code",
   "execution_count": 1,
   "id": "initial_id",
   "metadata": {
    "collapsed": true,
    "ExecuteTime": {
     "end_time": "2024-02-23T17:04:15.562998Z",
     "start_time": "2024-02-23T17:04:15.546957Z"
    }
   },
   "outputs": [],
   "source": [
    "# import diet and input schema\n",
    "from diet.diet import Diet\n",
    "from diet.schemas import input_schema"
   ]
  },
  {
   "cell_type": "markdown",
   "source": [
    "# Demo Successful Solve"
   ],
   "metadata": {
    "collapsed": false
   },
   "id": "5917ddb46f2678ba"
  },
  {
   "cell_type": "code",
   "execution_count": 2,
   "outputs": [
    {
     "name": "stdout",
     "output_type": "stream",
     "text": [
      "Set parameter Username\n",
      "Academic license - for non-commercial use only - expires 2024-08-31\n",
      "Gurobi Optimizer version 10.0.3 build v10.0.3rc0 (mac64[arm])\n",
      "\n",
      "CPU model: Apple M1\n",
      "Thread count: 8 physical cores, 8 logical processors, using up to 8 threads\n",
      "\n",
      "Optimize a model with 4 rows, 13 columns and 40 nonzeros\n",
      "Model fingerprint: 0x43188e2f\n",
      "Coefficient statistics:\n",
      "  Matrix range     [1e+00, 2e+03]\n",
      "  Objective range  [9e-01, 3e+00]\n",
      "  Bounds range     [6e+01, 2e+03]\n",
      "  RHS range        [0e+00, 0e+00]\n",
      "Presolve removed 0 rows and 2 columns\n",
      "Presolve time: 0.01s\n",
      "Presolved: 4 rows, 11 columns, 38 nonzeros\n",
      "\n",
      "Iteration    Objective       Primal Inf.    Dual Inf.      Time\n",
      "       0    0.0000000e+00   6.762500e+01   0.000000e+00      0s\n",
      "       5    1.1828861e+01   0.000000e+00   0.000000e+00      0s\n",
      "\n",
      "Solved in 5 iterations and 0.01 seconds (0.00 work units)\n",
      "Optimal objective  1.182886111e+01\n"
     ]
    }
   ],
   "source": [
    "# run a successful solve\n",
    "input_dat = input_schema.csv.create_tic_dat(\"diet_sample_data\")\n",
    "sln_dat = Diet.static_solve(input_dat)"
   ],
   "metadata": {
    "collapsed": false,
    "ExecuteTime": {
     "end_time": "2024-02-23T17:04:29.452876Z",
     "start_time": "2024-02-23T17:04:29.409671Z"
    }
   },
   "id": "ba916e78c57fbd41"
  },
  {
   "cell_type": "code",
   "execution_count": 3,
   "outputs": [
    {
     "data": {
      "text/plain": "{'hamburger': _td:{'Quantity': 0.6045138888888888},\n 'milk': _td:{'Quantity': 6.970138888888889},\n 'ice cream': _td:{'Quantity': 2.5913194444444447}}"
     },
     "execution_count": 3,
     "metadata": {},
     "output_type": "execute_result"
    }
   ],
   "source": [
    "# check solution to successful solve\n",
    "sln_dat.buy_food"
   ],
   "metadata": {
    "collapsed": false,
    "ExecuteTime": {
     "end_time": "2024-02-23T17:04:32.369265Z",
     "start_time": "2024-02-23T17:04:32.362208Z"
    }
   },
   "id": "be4f322a965a9546"
  },
  {
   "cell_type": "markdown",
   "source": [
    "# Demo Unsuccessful Solve"
   ],
   "metadata": {
    "collapsed": false
   },
   "id": "e35ca8b3a065e97d"
  },
  {
   "cell_type": "code",
   "execution_count": 4,
   "outputs": [],
   "source": [
    "# run an unsuccessful solve\n",
    "input_dat = input_schema.csv.create_tic_dat(\"diet_dirty_sample_data\")\n",
    "sln_dat = Diet.static_solve(input_dat)"
   ],
   "metadata": {
    "collapsed": false,
    "ExecuteTime": {
     "end_time": "2024-02-23T17:04:34.755175Z",
     "start_time": "2024-02-23T17:04:34.740940Z"
    }
   },
   "id": "7501ee227637a1cf"
  },
  {
   "cell_type": "code",
   "execution_count": 5,
   "outputs": [
    {
     "data": {
      "text/plain": "td:[_td:{'Table': 'nutrition_quantities', 'Primary Key': ('macaroni', 'calories'), 'Failure Type': 'Data Type Failure', 'Message': \" violates data type for column 'Quantity'\"}, _td:{'Table': 'nutrition_quantities', 'Primary Key': ('pizza',), 'Failure Type': 'Foreign Key Failure', 'Message': \"The entry in 'Food' must exist in column 'Name' of table 'foods'\"}, _td:{'Table': 'nutrition_quantities', 'Primary Key': (('pizza', 'calories'), ('pizza', 'fat'), ('pizza', 'sodium'), ('pizza', 'protein')), 'Failure Type': 'Foreign Key Failure', 'Message': \"The entry in 'Food' must exist in column 'Name' of table 'foods'\"}, _td:{'Table': 'categories', 'Primary Key': 'fat', 'Failure Type': 'Data Row Failure', 'Message': 'Max Nutrition must be >= Min Nutrition'}]"
     },
     "execution_count": 5,
     "metadata": {},
     "output_type": "execute_result"
    }
   ],
   "source": [
    "# check error messages for unsuccessful solve\n",
    "sln_dat.errors"
   ],
   "metadata": {
    "collapsed": false,
    "ExecuteTime": {
     "end_time": "2024-02-23T17:04:35.692510Z",
     "start_time": "2024-02-23T17:04:35.677555Z"
    }
   },
   "id": "d56db28bba96ada4"
  }
 ],
 "metadata": {
  "kernelspec": {
   "display_name": "Python 3",
   "language": "python",
   "name": "python3"
  },
  "language_info": {
   "codemirror_mode": {
    "name": "ipython",
    "version": 2
   },
   "file_extension": ".py",
   "mimetype": "text/x-python",
   "name": "python",
   "nbconvert_exporter": "python",
   "pygments_lexer": "ipython2",
   "version": "2.7.6"
  }
 },
 "nbformat": 4,
 "nbformat_minor": 5
}
