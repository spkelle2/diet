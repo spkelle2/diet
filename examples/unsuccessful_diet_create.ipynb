{
 "cells": [
  {
   "cell_type": "code",
   "execution_count": 1,
   "id": "initial_id",
   "metadata": {
    "collapsed": true,
    "ExecuteTime": {
     "end_time": "2024-01-17T21:41:37.624120Z",
     "start_time": "2024-01-17T21:41:37.553884Z"
    }
   },
   "outputs": [],
   "source": [
    "# import diet and input schema\n",
    "from diet.diet import Diet\n",
    "from diet.schemas import input_schema"
   ]
  },
  {
   "cell_type": "code",
   "execution_count": 2,
   "outputs": [
    {
     "data": {
      "text/plain": "{'nutrition_quantities': {('milk', 'fat'): 2}}"
     },
     "execution_count": 2,
     "metadata": {},
     "output_type": "execute_result"
    }
   ],
   "source": [
    "# check there are no primary key failures before instantiating dat\n",
    "input_schema.csv.find_duplicates(\"diet_dirty_sample_data\")"
   ],
   "metadata": {
    "collapsed": false,
    "ExecuteTime": {
     "end_time": "2024-01-17T21:41:39.014291Z",
     "start_time": "2024-01-17T21:41:39.003222Z"
    }
   },
   "id": "ba916e78c57fbd41"
  },
  {
   "cell_type": "code",
   "execution_count": 3,
   "outputs": [
    {
     "data": {
      "text/plain": "td: {categories: 4, foods: 9, nutrition_quantities: 36}"
     },
     "execution_count": 3,
     "metadata": {},
     "output_type": "execute_result"
    }
   ],
   "source": [
    "# read in our data\n",
    "input_dat = input_schema.csv.create_tic_dat(\"diet_dirty_sample_data\")\n",
    "input_dat"
   ],
   "metadata": {
    "collapsed": false,
    "ExecuteTime": {
     "end_time": "2024-01-17T21:41:42.645228Z",
     "start_time": "2024-01-17T21:41:42.638154Z"
    }
   },
   "id": "be4f322a965a9546"
  },
  {
   "cell_type": "code",
   "execution_count": 4,
   "outputs": [],
   "source": [
    "# use it to instantiate our Diet object\n",
    "diet = Diet(input_dat)"
   ],
   "metadata": {
    "collapsed": false,
    "ExecuteTime": {
     "end_time": "2024-01-17T21:41:46.806511Z",
     "start_time": "2024-01-17T21:41:46.803972Z"
    }
   },
   "id": "f2dce63fd3dda505"
  },
  {
   "cell_type": "code",
   "execution_count": 5,
   "outputs": [],
   "source": [
    "# confirm it created no model\n",
    "diet.mdl"
   ],
   "metadata": {
    "collapsed": false,
    "ExecuteTime": {
     "end_time": "2024-01-17T21:41:51.491231Z",
     "start_time": "2024-01-17T21:41:51.480804Z"
    }
   },
   "id": "35184121a9443836"
  },
  {
   "cell_type": "code",
   "execution_count": 7,
   "outputs": [
    {
     "data": {
      "text/plain": "td:[_td:{'Table': 'nutrition_quantities', 'Primary Key': ('chicken', 'fat'), 'Failure Type': 'Data Type Failure', 'Message': \" violates data type for column 'Quantity'\"}, _td:{'Table': 'nutrition_quantities', 'Primary Key': ('pizza',), 'Failure Type': 'Foreign Key Failure', 'Message': \"The entry in 'Food' must exist in column 'Name' of table 'foods'\"}, _td:{'Table': 'nutrition_quantities', 'Primary Key': (('pizza', 'calories'), ('pizza', 'fat'), ('pizza', 'protein'), ('pizza', 'sodium')), 'Failure Type': 'Foreign Key Failure', 'Message': \"The entry in 'Food' must exist in column 'Name' of table 'foods'\"}, _td:{'Table': 'categories', 'Primary Key': 'fat', 'Failure Type': 'Data Row Failure', 'Message': 'Max Nutrition must be >= Min Nutrition'}]"
     },
     "execution_count": 7,
     "metadata": {},
     "output_type": "execute_result"
    }
   ],
   "source": [
    "# check the input errors\n",
    "diet.solution_dat.errors"
   ],
   "metadata": {
    "collapsed": false,
    "ExecuteTime": {
     "end_time": "2024-01-17T21:42:39.232859Z",
     "start_time": "2024-01-17T21:42:39.228548Z"
    }
   },
   "id": "e25fcfde0449e10c"
  }
 ],
 "metadata": {
  "kernelspec": {
   "display_name": "Python 3",
   "language": "python",
   "name": "python3"
  },
  "language_info": {
   "codemirror_mode": {
    "name": "ipython",
    "version": 2
   },
   "file_extension": ".py",
   "mimetype": "text/x-python",
   "name": "python",
   "nbconvert_exporter": "python",
   "pygments_lexer": "ipython2",
   "version": "2.7.6"
  }
 },
 "nbformat": 4,
 "nbformat_minor": 5
}
