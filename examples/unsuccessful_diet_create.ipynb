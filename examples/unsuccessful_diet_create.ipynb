{
 "cells": [
  {
   "cell_type": "code",
   "execution_count": 1,
   "id": "initial_id",
   "metadata": {
    "collapsed": true,
    "ExecuteTime": {
     "end_time": "2024-02-23T17:00:43.188633Z",
     "start_time": "2024-02-23T17:00:43.168243Z"
    }
   },
   "outputs": [],
   "source": [
    "# import diet and input schema\n",
    "from diet.diet import Diet\n",
    "from diet.schemas import input_schema"
   ]
  },
  {
   "cell_type": "code",
   "execution_count": 2,
   "outputs": [
    {
     "data": {
      "text/plain": "{'nutrition_quantities': {('milk', 'fat'): 2}}"
     },
     "execution_count": 2,
     "metadata": {},
     "output_type": "execute_result"
    }
   ],
   "source": [
    "# check there are no primary key failures before instantiating dat\n",
    "input_schema.csv.find_duplicates(\"diet_dirty_sample_data\")"
   ],
   "metadata": {
    "collapsed": false,
    "ExecuteTime": {
     "end_time": "2024-02-23T17:00:47.278630Z",
     "start_time": "2024-02-23T17:00:47.271404Z"
    }
   },
   "id": "ba916e78c57fbd41"
  },
  {
   "cell_type": "code",
   "execution_count": 3,
   "outputs": [
    {
     "data": {
      "text/plain": "td: {categories: 4, foods: 9, nutrition_quantities: 36}"
     },
     "execution_count": 3,
     "metadata": {},
     "output_type": "execute_result"
    }
   ],
   "source": [
    "# read in our data\n",
    "input_dat = input_schema.csv.create_tic_dat(\"diet_dirty_sample_data\")\n",
    "input_dat"
   ],
   "metadata": {
    "collapsed": false,
    "ExecuteTime": {
     "end_time": "2024-02-23T17:00:48.511100Z",
     "start_time": "2024-02-23T17:00:48.501849Z"
    }
   },
   "id": "be4f322a965a9546"
  },
  {
   "cell_type": "code",
   "execution_count": 4,
   "outputs": [],
   "source": [
    "# use it to instantiate our Diet object\n",
    "diet = Diet(input_dat)"
   ],
   "metadata": {
    "collapsed": false,
    "ExecuteTime": {
     "end_time": "2024-02-23T17:00:52.248630Z",
     "start_time": "2024-02-23T17:00:52.245955Z"
    }
   },
   "id": "f2dce63fd3dda505"
  },
  {
   "cell_type": "code",
   "execution_count": 5,
   "outputs": [],
   "source": [
    "# confirm it created no model\n",
    "diet.mdl"
   ],
   "metadata": {
    "collapsed": false,
    "ExecuteTime": {
     "end_time": "2024-02-23T17:00:54.077407Z",
     "start_time": "2024-02-23T17:00:54.073270Z"
    }
   },
   "id": "35184121a9443836"
  },
  {
   "cell_type": "code",
   "execution_count": 6,
   "outputs": [
    {
     "data": {
      "text/plain": "td:[_td:{'Table': 'nutrition_quantities', 'Primary Key': ('chicken', 'fat'), 'Failure Type': 'Data Type Failure', 'Message': \" violates data type for column 'Quantity'\"}, _td:{'Table': 'nutrition_quantities', 'Primary Key': ('pizza',), 'Failure Type': 'Foreign Key Failure', 'Message': \"The entry in 'Food' must exist in column 'Name' of table 'foods'\"}, _td:{'Table': 'nutrition_quantities', 'Primary Key': (('pizza', 'fat'), ('pizza', 'sodium'), ('pizza', 'protein'), ('pizza', 'calories')), 'Failure Type': 'Foreign Key Failure', 'Message': \"The entry in 'Food' must exist in column 'Name' of table 'foods'\"}, _td:{'Table': 'categories', 'Primary Key': 'fat', 'Failure Type': 'Data Row Failure', 'Message': 'Max Nutrition must be >= Min Nutrition'}]"
     },
     "execution_count": 6,
     "metadata": {},
     "output_type": "execute_result"
    }
   ],
   "source": [
    "# check the input errors\n",
    "diet.solution_dat.errors"
   ],
   "metadata": {
    "collapsed": false,
    "ExecuteTime": {
     "end_time": "2024-02-23T17:00:55.313308Z",
     "start_time": "2024-02-23T17:00:55.301929Z"
    }
   },
   "id": "e25fcfde0449e10c"
  },
  {
   "cell_type": "code",
   "execution_count": null,
   "outputs": [],
   "source": [],
   "metadata": {
    "collapsed": false
   },
   "id": "92d4d93d0b4a56ed"
  }
 ],
 "metadata": {
  "kernelspec": {
   "display_name": "Python 3",
   "language": "python",
   "name": "python3"
  },
  "language_info": {
   "codemirror_mode": {
    "name": "ipython",
    "version": 2
   },
   "file_extension": ".py",
   "mimetype": "text/x-python",
   "name": "python",
   "nbconvert_exporter": "python",
   "pygments_lexer": "ipython2",
   "version": "2.7.6"
  }
 },
 "nbformat": 4,
 "nbformat_minor": 5
}
