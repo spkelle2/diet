{
 "cells": [
  {
   "cell_type": "code",
   "execution_count": 1,
   "id": "initial_id",
   "metadata": {
    "collapsed": true,
    "ExecuteTime": {
     "end_time": "2024-01-17T23:57:29.935459Z",
     "start_time": "2024-01-17T23:57:29.855195Z"
    }
   },
   "outputs": [],
   "source": [
    "# import diet and input schema\n",
    "from diet.diet import Diet\n",
    "from diet.schemas import input_schema"
   ]
  },
  {
   "cell_type": "code",
   "execution_count": 2,
   "outputs": [],
   "source": [
    "# run an unsuccessful solve\n",
    "dirty_input_dat = input_schema.csv.create_tic_dat(\"diet_dirty_sample_data\")\n",
    "diet = Diet(dirty_input_dat)\n",
    "dirty_sln_dat = diet.solve()"
   ],
   "metadata": {
    "collapsed": false,
    "ExecuteTime": {
     "end_time": "2024-01-17T23:57:29.943082Z",
     "start_time": "2024-01-17T23:57:29.936648Z"
    }
   },
   "id": "ef3262a326f01e1f"
  },
  {
   "cell_type": "code",
   "execution_count": 3,
   "outputs": [
    {
     "name": "stdout",
     "output_type": "stream",
     "text": [
      "Set parameter Username\n",
      "Academic license - for non-commercial use only - expires 2024-08-31\n"
     ]
    },
    {
     "ename": "AssertionError",
     "evalue": "Solve expects exactly one of the following: the model exists or errors found in the inputs.",
     "output_type": "error",
     "traceback": [
      "\u001B[0;31m---------------------------------------------------------------------------\u001B[0m",
      "\u001B[0;31mAssertionError\u001B[0m                            Traceback (most recent call last)",
      "Cell \u001B[0;32mIn[3], line 4\u001B[0m\n\u001B[1;32m      2\u001B[0m clean_input_dat \u001B[38;5;241m=\u001B[39m input_schema\u001B[38;5;241m.\u001B[39mcsv\u001B[38;5;241m.\u001B[39mcreate_tic_dat(\u001B[38;5;124m\"\u001B[39m\u001B[38;5;124mdiet_sample_data\u001B[39m\u001B[38;5;124m\"\u001B[39m)\n\u001B[1;32m      3\u001B[0m diet\u001B[38;5;241m.\u001B[39mmdl, diet\u001B[38;5;241m.\u001B[39mnutrition, diet\u001B[38;5;241m.\u001B[39mbuy \u001B[38;5;241m=\u001B[39m diet\u001B[38;5;241m.\u001B[39m_create_model(clean_input_dat)\n\u001B[0;32m----> 4\u001B[0m clean_sln_dat \u001B[38;5;241m=\u001B[39m \u001B[43mdiet\u001B[49m\u001B[38;5;241;43m.\u001B[39;49m\u001B[43msolve\u001B[49m\u001B[43m(\u001B[49m\u001B[43m)\u001B[49m\n",
      "File \u001B[0;32m~/Documents/school/phd/research/diet/diet/diet.py:126\u001B[0m, in \u001B[0;36mDiet.solve\u001B[0;34m(self)\u001B[0m\n\u001B[1;32m    117\u001B[0m \u001B[38;5;250m\u001B[39m\u001B[38;5;124;03m\"\"\"\u001B[39;00m\n\u001B[1;32m    118\u001B[0m \u001B[38;5;124;03mIf we successfully created a model, solve it and save the solution.\u001B[39;00m\n\u001B[1;32m    119\u001B[0m \n\u001B[1;32m    120\u001B[0m \u001B[38;5;124;03m:return: A TicDat object with solution data for the diet problem\u001B[39;00m\n\u001B[1;32m    121\u001B[0m \u001B[38;5;124;03m\"\"\"\u001B[39;00m\n\u001B[1;32m    123\u001B[0m \u001B[38;5;66;03m# if i have this hiding behind a web API, no client could ever trigger this\u001B[39;00m\n\u001B[1;32m    124\u001B[0m \u001B[38;5;66;03m# however, a future developer may alter this code, in which case it could happen!\u001B[39;00m\n\u001B[1;32m    125\u001B[0m \u001B[38;5;66;03m# same with above assert - in general guardrails for devs beyond what we'd expect a user to hit\u001B[39;00m\n\u001B[0;32m--> 126\u001B[0m \u001B[38;5;28;01massert\u001B[39;00m \u001B[38;5;28mbool\u001B[39m(\u001B[38;5;28mself\u001B[39m\u001B[38;5;241m.\u001B[39msolution_dat\u001B[38;5;241m.\u001B[39merrors) \u001B[38;5;241m!=\u001B[39m \u001B[38;5;28mbool\u001B[39m(\u001B[38;5;28mself\u001B[39m\u001B[38;5;241m.\u001B[39mmdl), \u001B[38;5;124m\"\u001B[39m\u001B[38;5;124mSolve expects exactly \u001B[39m\u001B[38;5;124m\"\u001B[39m \\\n\u001B[1;32m    127\u001B[0m     \u001B[38;5;124m\"\u001B[39m\u001B[38;5;124mone of the following: the model exists or errors found in the inputs.\u001B[39m\u001B[38;5;124m\"\u001B[39m\n\u001B[1;32m    129\u001B[0m \u001B[38;5;66;03m# if we have no errors\u001B[39;00m\n\u001B[1;32m    130\u001B[0m \u001B[38;5;28;01mif\u001B[39;00m \u001B[38;5;129;01mnot\u001B[39;00m \u001B[38;5;28mself\u001B[39m\u001B[38;5;241m.\u001B[39msolution_dat\u001B[38;5;241m.\u001B[39merrors:\n\u001B[1;32m    131\u001B[0m \n\u001B[1;32m    132\u001B[0m     \u001B[38;5;66;03m# solve the model\u001B[39;00m\n",
      "\u001B[0;31mAssertionError\u001B[0m: Solve expects exactly one of the following: the model exists or errors found in the inputs."
     ]
    }
   ],
   "source": [
    "# run a subsequent solve in an unanticipated way\n",
    "clean_input_dat = input_schema.csv.create_tic_dat(\"diet_sample_data\")\n",
    "diet.mdl, diet.nutrition, diet.buy = diet._create_model(clean_input_dat)\n",
    "clean_sln_dat = diet.solve()"
   ],
   "metadata": {
    "collapsed": false,
    "ExecuteTime": {
     "end_time": "2024-01-17T23:57:30.092197Z",
     "start_time": "2024-01-17T23:57:29.943731Z"
    }
   },
   "id": "c1586184e60a6740"
  },
  {
   "cell_type": "code",
   "execution_count": 4,
   "outputs": [
    {
     "data": {
      "text/plain": "<gurobi.Model Continuous instance diet: 4 constrs, 13 vars, Parameter changes: Username=(user-defined)>"
     },
     "execution_count": 4,
     "metadata": {},
     "output_type": "execute_result"
    }
   ],
   "source": [
    "# check that we have a model\n",
    "diet.mdl"
   ],
   "metadata": {
    "collapsed": false,
    "ExecuteTime": {
     "end_time": "2024-01-17T23:57:54.102063Z",
     "start_time": "2024-01-17T23:57:54.097639Z"
    }
   },
   "id": "1710e3f6aa3877f0"
  },
  {
   "cell_type": "markdown",
   "source": [],
   "metadata": {
    "collapsed": false
   },
   "id": "ece29457286725bd"
  },
  {
   "cell_type": "code",
   "execution_count": 5,
   "outputs": [
    {
     "data": {
      "text/plain": "td:[_td:{'Table': 'nutrition_quantities', 'Primary Key': ('chicken', 'fat'), 'Failure Type': 'Data Type Failure', 'Message': \" violates data type for column 'Quantity'\"}, _td:{'Table': 'nutrition_quantities', 'Primary Key': ('pizza',), 'Failure Type': 'Foreign Key Failure', 'Message': \"The entry in 'Food' must exist in column 'Name' of table 'foods'\"}, _td:{'Table': 'nutrition_quantities', 'Primary Key': (('pizza', 'fat'), ('pizza', 'sodium'), ('pizza', 'protein'), ('pizza', 'calories')), 'Failure Type': 'Foreign Key Failure', 'Message': \"The entry in 'Food' must exist in column 'Name' of table 'foods'\"}, _td:{'Table': 'categories', 'Primary Key': 'fat', 'Failure Type': 'Data Row Failure', 'Message': 'Max Nutrition must be >= Min Nutrition'}]"
     },
     "execution_count": 5,
     "metadata": {},
     "output_type": "execute_result"
    }
   ],
   "source": [
    "# check that we have errors\n",
    "diet.solution_dat.errors"
   ],
   "metadata": {
    "collapsed": false,
    "ExecuteTime": {
     "end_time": "2024-01-17T23:57:56.618947Z",
     "start_time": "2024-01-17T23:57:56.589528Z"
    }
   },
   "id": "e9eb95ff1ca794e5"
  }
 ],
 "metadata": {
  "kernelspec": {
   "display_name": "Python 3",
   "language": "python",
   "name": "python3"
  },
  "language_info": {
   "codemirror_mode": {
    "name": "ipython",
    "version": 2
   },
   "file_extension": ".py",
   "mimetype": "text/x-python",
   "name": "python",
   "nbconvert_exporter": "python",
   "pygments_lexer": "ipython2",
   "version": "2.7.6"
  }
 },
 "nbformat": 4,
 "nbformat_minor": 5
}
