{
 "cells": [
  {
   "cell_type": "code",
   "execution_count": 1,
   "id": "initial_id",
   "metadata": {
    "collapsed": true,
    "ExecuteTime": {
     "end_time": "2024-01-17T21:31:25.492442Z",
     "start_time": "2024-01-17T21:31:25.409268Z"
    }
   },
   "outputs": [],
   "source": [
    "# import diet and input schema\n",
    "from diet.diet import Diet\n",
    "from diet.schemas import input_schema"
   ]
  },
  {
   "cell_type": "code",
   "execution_count": 2,
   "outputs": [
    {
     "data": {
      "text/plain": "{}"
     },
     "execution_count": 2,
     "metadata": {},
     "output_type": "execute_result"
    }
   ],
   "source": [
    "# check there are no primary key failures before instantiating dat\n",
    "input_schema.csv.find_duplicates(\"diet_sample_data\")"
   ],
   "metadata": {
    "collapsed": false,
    "ExecuteTime": {
     "end_time": "2024-01-17T21:31:33.776540Z",
     "start_time": "2024-01-17T21:31:33.770309Z"
    }
   },
   "id": "ba916e78c57fbd41"
  },
  {
   "cell_type": "code",
   "execution_count": 3,
   "outputs": [
    {
     "data": {
      "text/plain": "td: {categories: 4, foods: 9, nutrition_quantities: 36}"
     },
     "execution_count": 3,
     "metadata": {},
     "output_type": "execute_result"
    }
   ],
   "source": [
    "# read in our data\n",
    "input_dat = input_schema.csv.create_tic_dat(\"diet_sample_data\")\n",
    "input_dat"
   ],
   "metadata": {
    "collapsed": false,
    "ExecuteTime": {
     "end_time": "2024-01-17T21:31:42.070430Z",
     "start_time": "2024-01-17T21:31:42.062991Z"
    }
   },
   "id": "be4f322a965a9546"
  },
  {
   "cell_type": "code",
   "execution_count": 4,
   "outputs": [
    {
     "name": "stdout",
     "output_type": "stream",
     "text": [
      "Set parameter Username\n",
      "Academic license - for non-commercial use only - expires 2024-08-31\n"
     ]
    }
   ],
   "source": [
    "# use it to instantiate our Diet object\n",
    "diet = Diet(input_dat)"
   ],
   "metadata": {
    "collapsed": false,
    "ExecuteTime": {
     "end_time": "2024-01-17T21:31:57.155686Z",
     "start_time": "2024-01-17T21:31:57.143919Z"
    }
   },
   "id": "f2dce63fd3dda505"
  },
  {
   "cell_type": "code",
   "execution_count": 5,
   "outputs": [
    {
     "data": {
      "text/plain": "<gurobi.Model Continuous instance diet: 4 constrs, 13 vars, Parameter changes: Username=(user-defined)>"
     },
     "execution_count": 5,
     "metadata": {},
     "output_type": "execute_result"
    }
   ],
   "source": [
    "# confirm it created a model\n",
    "diet.mdl"
   ],
   "metadata": {
    "collapsed": false,
    "ExecuteTime": {
     "end_time": "2024-01-17T21:32:11.433815Z",
     "start_time": "2024-01-17T21:32:11.425913Z"
    }
   },
   "id": "35184121a9443836"
  }
 ],
 "metadata": {
  "kernelspec": {
   "display_name": "Python 3",
   "language": "python",
   "name": "python3"
  },
  "language_info": {
   "codemirror_mode": {
    "name": "ipython",
    "version": 2
   },
   "file_extension": ".py",
   "mimetype": "text/x-python",
   "name": "python",
   "nbconvert_exporter": "python",
   "pygments_lexer": "ipython2",
   "version": "2.7.6"
  }
 },
 "nbformat": 4,
 "nbformat_minor": 5
}
