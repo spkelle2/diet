{
 "cells": [
  {
   "cell_type": "code",
   "execution_count": 1,
   "id": "initial_id",
   "metadata": {
    "collapsed": true,
    "ExecuteTime": {
     "end_time": "2024-02-23T16:58:32.344217Z",
     "start_time": "2024-02-23T16:58:32.317988Z"
    }
   },
   "outputs": [],
   "source": [
    "# import diet and input schema\n",
    "from diet.diet import Diet\n",
    "from diet.schemas import input_schema"
   ]
  },
  {
   "cell_type": "code",
   "execution_count": 2,
   "outputs": [
    {
     "data": {
      "text/plain": "{}"
     },
     "execution_count": 2,
     "metadata": {},
     "output_type": "execute_result"
    }
   ],
   "source": [
    "# check there are no primary key failures before instantiating dat\n",
    "input_schema.csv.find_duplicates(\"diet_sample_data\")"
   ],
   "metadata": {
    "collapsed": false,
    "ExecuteTime": {
     "end_time": "2024-02-23T16:58:33.113892Z",
     "start_time": "2024-02-23T16:58:33.096679Z"
    }
   },
   "id": "ba916e78c57fbd41"
  },
  {
   "cell_type": "code",
   "execution_count": 3,
   "outputs": [
    {
     "data": {
      "text/plain": "td: {categories: 4, foods: 9, nutrition_quantities: 36}"
     },
     "execution_count": 3,
     "metadata": {},
     "output_type": "execute_result"
    }
   ],
   "source": [
    "# read in our data\n",
    "input_dat = input_schema.csv.create_tic_dat(\"diet_sample_data\")\n",
    "input_dat"
   ],
   "metadata": {
    "collapsed": false,
    "ExecuteTime": {
     "end_time": "2024-02-23T16:58:36.281001Z",
     "start_time": "2024-02-23T16:58:36.270832Z"
    }
   },
   "id": "be4f322a965a9546"
  },
  {
   "cell_type": "code",
   "execution_count": 4,
   "outputs": [
    {
     "name": "stdout",
     "output_type": "stream",
     "text": [
      "Set parameter Username\n",
      "Academic license - for non-commercial use only - expires 2024-08-31\n"
     ]
    }
   ],
   "source": [
    "# use it to instantiate our Diet object\n",
    "diet = Diet(input_dat)"
   ],
   "metadata": {
    "collapsed": false,
    "ExecuteTime": {
     "end_time": "2024-02-23T16:58:39.478455Z",
     "start_time": "2024-02-23T16:58:39.460794Z"
    }
   },
   "id": "f2dce63fd3dda505"
  },
  {
   "cell_type": "code",
   "execution_count": 5,
   "outputs": [
    {
     "data": {
      "text/plain": "<gurobi.Model Continuous instance diet: 4 constrs, 13 vars, Parameter changes: Username=(user-defined)>"
     },
     "execution_count": 5,
     "metadata": {},
     "output_type": "execute_result"
    }
   ],
   "source": [
    "# confirm it created a model\n",
    "diet.mdl"
   ],
   "metadata": {
    "collapsed": false,
    "ExecuteTime": {
     "end_time": "2024-02-23T16:58:43.258868Z",
     "start_time": "2024-02-23T16:58:43.234701Z"
    }
   },
   "id": "35184121a9443836"
  }
 ],
 "metadata": {
  "kernelspec": {
   "display_name": "Python 3",
   "language": "python",
   "name": "python3"
  },
  "language_info": {
   "codemirror_mode": {
    "name": "ipython",
    "version": 2
   },
   "file_extension": ".py",
   "mimetype": "text/x-python",
   "name": "python",
   "nbconvert_exporter": "python",
   "pygments_lexer": "ipython2",
   "version": "2.7.6"
  }
 },
 "nbformat": 4,
 "nbformat_minor": 5
}
